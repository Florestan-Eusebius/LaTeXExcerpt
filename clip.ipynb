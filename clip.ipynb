{
 "cells": [
  {
   "cell_type": "code",
   "execution_count": 5,
   "metadata": {},
   "outputs": [
    {
     "name": "stdout",
     "output_type": "stream",
     "text": [
      "This is pdfTeX, Version 3.141592653-2.6-1.40.25 (TeX Live 2023) (preloaded format=pdflatex)\n",
      " restricted \\write18 enabled.\n",
      "entering extended mode\n",
      "(./example.tex\n",
      "LaTeX2e <2023-06-01> patch level 1\n",
      "L3 programming layer <2023-08-29>\n",
      "(/usr/local/texlive/2023/texmf-dist/tex/latex/base/article.cls\n",
      "Document Class: article 2023/05/17 v1.4n Standard LaTeX document class\n",
      "(/usr/local/texlive/2023/texmf-dist/tex/latex/base/size10.clo))\n",
      "(/usr/local/texlive/2023/texmf-dist/tex/latex/amsmath/amsmath.sty\n",
      "For additional information on amsmath, use the `?' option.\n",
      "(/usr/local/texlive/2023/texmf-dist/tex/latex/amsmath/amstext.sty\n",
      "(/usr/local/texlive/2023/texmf-dist/tex/latex/amsmath/amsgen.sty))\n",
      "(/usr/local/texlive/2023/texmf-dist/tex/latex/amsmath/amsbsy.sty)\n",
      "(/usr/local/texlive/2023/texmf-dist/tex/latex/amsmath/amsopn.sty))\n",
      "(/usr/local/texlive/2023/texmf-dist/tex/latex/amsfonts/amsfonts.sty)\n",
      "(/usr/local/texlive/2023/texmf-dist/tex/latex/braket/braket.sty)\n",
      "(/usr/local/texlive/2023/texmf-dist/tex/latex/l3backend/l3backend-pdftex.def)\n",
      "No file example.aux.\n",
      "(/usr/local/texlive/2023/texmf-dist/tex/latex/amsfonts/umsa.fd)\n",
      "(/usr/local/texlive/2023/texmf-dist/tex/latex/amsfonts/umsb.fd)\n",
      "Overfull \\hbox (40.66063pt too wide) detected at line 9\n",
      " []$[] \\OT1/cmr/m/n/10 = [] [] [] [] [] [] [] \\OML/cmm/m/it/10 ;  $ \n",
      "[1{/usr/local/texlive/2023/texmf-var/fonts/map/pdftex/updmap/pdftex.map}]\n",
      "(./example.aux) )\n",
      "(see the transcript file for additional information)</usr/local/texlive/2023/te\n",
      "xmf-dist/fonts/type1/public/amsfonts/cm/cmex10.pfb></usr/local/texlive/2023/tex\n",
      "mf-dist/fonts/type1/public/amsfonts/cm/cmmi10.pfb></usr/local/texlive/2023/texm\n",
      "f-dist/fonts/type1/public/amsfonts/cm/cmmi5.pfb></usr/local/texlive/2023/texmf-\n",
      "dist/fonts/type1/public/amsfonts/cm/cmmi7.pfb></usr/local/texlive/2023/texmf-di\n",
      "st/fonts/type1/public/amsfonts/cm/cmr10.pfb></usr/local/texlive/2023/texmf-dist\n",
      "/fonts/type1/public/amsfonts/cm/cmr5.pfb></usr/local/texlive/2023/texmf-dist/fo\n",
      "nts/type1/public/amsfonts/cm/cmr7.pfb></usr/local/texlive/2023/texmf-dist/fonts\n",
      "/type1/public/amsfonts/cm/cmsy10.pfb></usr/local/texlive/2023/texmf-dist/fonts/\n",
      "type1/public/amsfonts/cm/cmsy7.pfb></usr/local/texlive/2023/texmf-dist/fonts/ty\n",
      "pe1/public/amsfonts/symbols/msbm7.pfb>\n",
      "Output written on example.pdf (1 page, 86837 bytes).\n",
      "Transcript written on example.log.\n"
     ]
    },
    {
     "name": "stderr",
     "output_type": "stream",
     "text": [
      "rm: example.gz: No such file or directory\n"
     ]
    },
    {
     "data": {
      "text/plain": [
       "('/Users/wangyifei/Documents/tools/pdfexcerpt/example_cropped.pdf',\n",
       " None,\n",
       " None,\n",
       " None)"
      ]
     },
     "execution_count": 5,
     "metadata": {},
     "output_type": "execute_result"
    }
   ],
   "source": [
    "import subprocess\n",
    "from pdfCropMargins import crop\n",
    "\n",
    "with open('maintext.txt', 'r') as file:\n",
    "    # Read the entire content of the file into a string\n",
    "    maintext = file.read()\n",
    "\n",
    "tex_content = \"\"\"\n",
    "\\\\documentclass{article}\n",
    "\\\\usepackage{amsmath,amsfonts}\n",
    "\\\\usepackage{braket}\n",
    "\\\\begin{document}\n",
    "\\\\thispagestyle{empty}\n",
    "\"\"\" + maintext + \"\"\"\n",
    "\\\\end{document}\n",
    "\"\"\"\n",
    "\n",
    "with open('example.tex', 'w') as file:\n",
    "    file.write(tex_content)\n",
    "\n",
    "subprocess.run(['pdflatex', 'example.tex'])\n",
    "\n",
    "subprocess.run(['rm', 'example.log', 'example.aux', 'example.gz'])\n",
    "\n",
    "# Specify the PDF file\n",
    "pdf_file = 'example.pdf'\n",
    "\n",
    "# Crop the PDF file with no margins\n",
    "crop([\"-p\", \"0\", \"-a\", \"-2\", pdf_file])"
   ]
  }
 ],
 "metadata": {
  "kernelspec": {
   "display_name": "Python 3",
   "language": "python",
   "name": "python3"
  },
  "language_info": {
   "codemirror_mode": {
    "name": "ipython",
    "version": 3
   },
   "file_extension": ".py",
   "mimetype": "text/x-python",
   "name": "python",
   "nbconvert_exporter": "python",
   "pygments_lexer": "ipython3",
   "version": "3.9.7"
  }
 },
 "nbformat": 4,
 "nbformat_minor": 2
}
